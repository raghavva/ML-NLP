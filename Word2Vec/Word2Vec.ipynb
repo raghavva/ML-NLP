{
 "cells": [
  {
   "cell_type": "code",
   "execution_count": 8,
   "id": "3345eb71",
   "metadata": {},
   "outputs": [
    {
     "name": "stdout",
     "output_type": "stream",
     "text": [
      "Requirement already satisfied: gensim in /Users/raghavvamshithamshetty/anaconda3/lib/python3.11/site-packages (4.3.0)\r\n",
      "Requirement already satisfied: numpy>=1.18.5 in /Users/raghavvamshithamshetty/anaconda3/lib/python3.11/site-packages (from gensim) (1.24.4)\r\n",
      "Requirement already satisfied: scipy>=1.7.0 in /Users/raghavvamshithamshetty/anaconda3/lib/python3.11/site-packages (from gensim) (1.10.1)\r\n",
      "Requirement already satisfied: smart-open>=1.8.1 in /Users/raghavvamshithamshetty/anaconda3/lib/python3.11/site-packages (from gensim) (5.2.1)\r\n",
      "Requirement already satisfied: FuzzyTM>=0.4.0 in /Users/raghavvamshithamshetty/anaconda3/lib/python3.11/site-packages (from gensim) (2.0.9)\r\n",
      "Requirement already satisfied: pandas in /Users/raghavvamshithamshetty/anaconda3/lib/python3.11/site-packages (from FuzzyTM>=0.4.0->gensim) (1.5.3)\r\n",
      "Requirement already satisfied: pyfume in /Users/raghavvamshithamshetty/anaconda3/lib/python3.11/site-packages (from FuzzyTM>=0.4.0->gensim) (0.3.4)\r\n",
      "Requirement already satisfied: python-dateutil>=2.8.1 in /Users/raghavvamshithamshetty/anaconda3/lib/python3.11/site-packages (from pandas->FuzzyTM>=0.4.0->gensim) (2.8.2)\r\n",
      "Requirement already satisfied: pytz>=2020.1 in /Users/raghavvamshithamshetty/anaconda3/lib/python3.11/site-packages (from pandas->FuzzyTM>=0.4.0->gensim) (2022.7)\r\n",
      "Requirement already satisfied: simpful==2.12.0 in /Users/raghavvamshithamshetty/anaconda3/lib/python3.11/site-packages (from pyfume->FuzzyTM>=0.4.0->gensim) (2.12.0)\r\n",
      "Requirement already satisfied: fst-pso==1.8.1 in /Users/raghavvamshithamshetty/anaconda3/lib/python3.11/site-packages (from pyfume->FuzzyTM>=0.4.0->gensim) (1.8.1)\r\n",
      "Requirement already satisfied: miniful in /Users/raghavvamshithamshetty/anaconda3/lib/python3.11/site-packages (from fst-pso==1.8.1->pyfume->FuzzyTM>=0.4.0->gensim) (0.0.6)\r\n",
      "Requirement already satisfied: six>=1.5 in /Users/raghavvamshithamshetty/anaconda3/lib/python3.11/site-packages (from python-dateutil>=2.8.1->pandas->FuzzyTM>=0.4.0->gensim) (1.16.0)\r\n"
     ]
    }
   ],
   "source": [
    "!pip install gensim"
   ]
  },
  {
   "cell_type": "code",
   "execution_count": 9,
   "id": "95a10f02",
   "metadata": {},
   "outputs": [
    {
     "ename": "ModuleNotFoundError",
     "evalue": "No module named 'gensim'",
     "output_type": "error",
     "traceback": [
      "\u001b[0;31m---------------------------------------------------------------------------\u001b[0m",
      "\u001b[0;31mModuleNotFoundError\u001b[0m                       Traceback (most recent call last)",
      "Input \u001b[0;32mIn [9]\u001b[0m, in \u001b[0;36m<cell line: 1>\u001b[0;34m()\u001b[0m\n\u001b[0;32m----> 1\u001b[0m \u001b[38;5;28;01mfrom\u001b[39;00m \u001b[38;5;21;01mgensim\u001b[39;00m\u001b[38;5;21;01m.\u001b[39;00m\u001b[38;5;21;01mmodels\u001b[39;00m \u001b[38;5;28;01mimport\u001b[39;00m Word2Vec\n\u001b[1;32m      2\u001b[0m \u001b[38;5;28;01mfrom\u001b[39;00m \u001b[38;5;21;01mnltk\u001b[39;00m\u001b[38;5;21;01m.\u001b[39;00m\u001b[38;5;21;01mtokenize\u001b[39;00m \u001b[38;5;28;01mimport\u001b[39;00m word_tokenize\n\u001b[1;32m      3\u001b[0m \u001b[38;5;28;01mimport\u001b[39;00m \u001b[38;5;21;01mnltk\u001b[39;00m\n",
      "\u001b[0;31mModuleNotFoundError\u001b[0m: No module named 'gensim'"
     ]
    }
   ],
   "source": [
    "from gensim.models import Word2Vec\n",
    "from nltk.tokenize import word_tokenize\n",
    "import nltk\n",
    "nltk.download('punkt') "
   ]
  },
  {
   "cell_type": "code",
   "execution_count": null,
   "id": "884e8b3d",
   "metadata": {},
   "outputs": [],
   "source": [
    "sample = \"Word embeddings are dense vector representations of words.\"\n",
    "tokenized_corpus = word_tokenize(sample.lower())  # Lowercasing for consistency"
   ]
  },
  {
   "cell_type": "code",
   "execution_count": null,
   "id": "6f91a749",
   "metadata": {},
   "outputs": [],
   "source": [
    "skipgram_model = Word2Vec(sentences=[tokenized_corpus],\n",
    "                          vector_size=100,  # Dimensionality of the word vectors\n",
    "                          window=5,         # Maximum distance between the current and predicted word within a sentence\n",
    "                          sg=1,             # Skip-Gram model (1 for Skip-Gram, 0 for CBOW)\n",
    "                          min_count=1,      # Ignores all words with a total frequency lower than this\n",
    "                          workers=4)        # Number of CPU cores to use for training the model"
   ]
  },
  {
   "cell_type": "code",
   "execution_count": null,
   "id": "a7d39ac2",
   "metadata": {},
   "outputs": [],
   "source": [
    "skipgram_model.train([tokenized_corpus], total_examples=1, epochs=10)\n",
    "skipgram_model.save(\"skipgram_model.model\")\n",
    "loaded_model = Word2Vec.load(\"skipgram_model.model\")\n",
    "vector_representation = loaded_model.wv['word']\n",
    "print(\"Vector representation of 'word':\", vector_representation)"
   ]
  }
 ],
 "metadata": {
  "kernelspec": {
   "display_name": "Python 3 (ipykernel)",
   "language": "python",
   "name": "python3"
  },
  "language_info": {
   "codemirror_mode": {
    "name": "ipython",
    "version": 3
   },
   "file_extension": ".py",
   "mimetype": "text/x-python",
   "name": "python",
   "nbconvert_exporter": "python",
   "pygments_lexer": "ipython3",
   "version": "3.9.7"
  }
 },
 "nbformat": 4,
 "nbformat_minor": 5
}
